{
 "cells": [
  {
   "cell_type": "code",
   "execution_count": 1,
   "metadata": {},
   "outputs": [
    {
     "name": "stdout",
     "output_type": "stream",
     "text": [
      "Title:  Bruh Sound Effect #2\n",
      "Number of views:  23812661\n",
      "Length of video:  1\n",
      "Rating of video:  4.936091\n",
      "Downloading...\n",
      "Download completed!!\n"
     ]
    }
   ],
   "source": [
    "import pytube\n",
    "\n",
    "link = input(\"pass the link\") #tres simple, mais i get errors a veces \n",
    "yt = pytube.YouTube(link)\n",
    "\n",
    "print(\"Title: \",yt.title)\n",
    "print(\"Number of views: \",yt.views)\n",
    "print(\"Length of video: \",yt.length)\n",
    "print(\"Rating of video: \",yt.rating)\n",
    "#Getting the highest resolution possible\n",
    "ys = yt.streams.get_highest_resolution()\n",
    "\n",
    "print(\"Downloading...\")\n",
    "ys.download()\n",
    "print(\"Download completed!!\")"
   ]
  }
 ],
 "metadata": {
  "interpreter": {
   "hash": "7bcfac60cd316cab1810c67f16d75e14abb874771ecdd5af4e3a00fe11b217a0"
  },
  "kernelspec": {
   "display_name": "Python 3.8.8 64-bit ('base': conda)",
   "language": "python",
   "name": "python3"
  },
  "language_info": {
   "codemirror_mode": {
    "name": "ipython",
    "version": 3
   },
   "file_extension": ".py",
   "mimetype": "text/x-python",
   "name": "python",
   "nbconvert_exporter": "python",
   "pygments_lexer": "ipython3",
   "version": "3.8.8"
  },
  "orig_nbformat": 4
 },
 "nbformat": 4,
 "nbformat_minor": 2
}
